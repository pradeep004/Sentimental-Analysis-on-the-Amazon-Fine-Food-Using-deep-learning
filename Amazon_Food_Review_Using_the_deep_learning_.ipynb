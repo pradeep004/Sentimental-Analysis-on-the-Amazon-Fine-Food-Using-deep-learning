{
  "nbformat": 4,
  "nbformat_minor": 0,
  "metadata": {
    "kernelspec": {
      "display_name": "Python 3",
      "language": "python",
      "name": "python3"
    },
    "language_info": {
      "codemirror_mode": {
        "name": "ipython",
        "version": 3
      },
      "file_extension": ".py",
      "mimetype": "text/x-python",
      "name": "python",
      "nbconvert_exporter": "python",
      "pygments_lexer": "ipython3",
      "version": "3.7.6"
    },
    "colab": {
      "name": " Amazon Food Review Using the deep learning .ipynb",
      "provenance": [],
      "collapsed_sections": [
        "YGJGu-0EEzAA",
        "jRJnUgfYEzAE",
        "2WCV112REzAG",
        "PhJKikYnEzAK",
        "_S-vIn2fHSGW"
      ],
      "include_colab_link": true
    }
  },
  "cells": [
    {
      "cell_type": "markdown",
      "metadata": {
        "id": "view-in-github",
        "colab_type": "text"
      },
      "source": [
        "<a href=\"https://colab.research.google.com/github/pradeep004/Sentimental-Analysis-on-the-Amazon-Fine-Food-Using-deep-learning/blob/main/Amazon_Food_Review_Using_the_deep_learning_.ipynb\" target=\"_parent\"><img src=\"https://colab.research.google.com/assets/colab-badge.svg\" alt=\"Open In Colab\"/></a>"
      ]
    },
    {
      "cell_type": "code",
      "metadata": {
        "colab": {
          "base_uri": "https://localhost:8080/"
        },
        "id": "qmxu8V51E6eg",
        "outputId": "fafb0bef-ef0c-461b-da34-796386b4fe25"
      },
      "source": [
        "from google.colab import drive\n",
        "drive.mount('/content/drive')"
      ],
      "execution_count": null,
      "outputs": [
        {
          "output_type": "stream",
          "name": "stdout",
          "text": [
            "Mounted at /content/drive\n"
          ]
        }
      ]
    },
    {
      "cell_type": "code",
      "metadata": {
        "id": "QSFxO5deEy_o"
      },
      "source": [
        "import pandas as pd\n",
        "import warnings\n",
        "warnings.filterwarnings(\"ignore\")\n"
      ],
      "execution_count": null,
      "outputs": []
    },
    {
      "cell_type": "code",
      "metadata": {
        "colab": {
          "base_uri": "https://localhost:8080/",
          "height": 111
        },
        "id": "l9oSfdFcEy_u",
        "outputId": "18d18c17-5ffe-4136-e0a2-1be466063ece"
      },
      "source": [
        "data=pd.read_csv('/content/drive/MyDrive/Colab Notebooks/Reviews.csv')\n",
        "data.head(2)"
      ],
      "execution_count": null,
      "outputs": [
        {
          "output_type": "execute_result",
          "data": {
            "text/html": [
              "<div>\n",
              "<style scoped>\n",
              "    .dataframe tbody tr th:only-of-type {\n",
              "        vertical-align: middle;\n",
              "    }\n",
              "\n",
              "    .dataframe tbody tr th {\n",
              "        vertical-align: top;\n",
              "    }\n",
              "\n",
              "    .dataframe thead th {\n",
              "        text-align: right;\n",
              "    }\n",
              "</style>\n",
              "<table border=\"1\" class=\"dataframe\">\n",
              "  <thead>\n",
              "    <tr style=\"text-align: right;\">\n",
              "      <th></th>\n",
              "      <th>Id</th>\n",
              "      <th>ProductId</th>\n",
              "      <th>UserId</th>\n",
              "      <th>ProfileName</th>\n",
              "      <th>HelpfulnessNumerator</th>\n",
              "      <th>HelpfulnessDenominator</th>\n",
              "      <th>Score</th>\n",
              "      <th>Time</th>\n",
              "      <th>Summary</th>\n",
              "      <th>Text</th>\n",
              "    </tr>\n",
              "  </thead>\n",
              "  <tbody>\n",
              "    <tr>\n",
              "      <th>0</th>\n",
              "      <td>1</td>\n",
              "      <td>B001E4KFG0</td>\n",
              "      <td>A3SGXH7AUHU8GW</td>\n",
              "      <td>delmartian</td>\n",
              "      <td>1</td>\n",
              "      <td>1</td>\n",
              "      <td>5</td>\n",
              "      <td>1303862400</td>\n",
              "      <td>Good Quality Dog Food</td>\n",
              "      <td>I have bought several of the Vitality canned d...</td>\n",
              "    </tr>\n",
              "    <tr>\n",
              "      <th>1</th>\n",
              "      <td>2</td>\n",
              "      <td>B00813GRG4</td>\n",
              "      <td>A1D87F6ZCVE5NK</td>\n",
              "      <td>dll pa</td>\n",
              "      <td>0</td>\n",
              "      <td>0</td>\n",
              "      <td>1</td>\n",
              "      <td>1346976000</td>\n",
              "      <td>Not as Advertised</td>\n",
              "      <td>Product arrived labeled as Jumbo Salted Peanut...</td>\n",
              "    </tr>\n",
              "  </tbody>\n",
              "</table>\n",
              "</div>"
            ],
            "text/plain": [
              "   Id  ...                                               Text\n",
              "0   1  ...  I have bought several of the Vitality canned d...\n",
              "1   2  ...  Product arrived labeled as Jumbo Salted Peanut...\n",
              "\n",
              "[2 rows x 10 columns]"
            ]
          },
          "metadata": {},
          "execution_count": 69
        }
      ]
    },
    {
      "cell_type": "markdown",
      "metadata": {
        "id": "T5oCDLdPEy_v"
      },
      "source": [
        "Checking Null data"
      ]
    },
    {
      "cell_type": "code",
      "metadata": {
        "colab": {
          "base_uri": "https://localhost:8080/"
        },
        "id": "QN-cHI7ZEy_x",
        "outputId": "a958b0b2-611b-4574-d219-9edeb1c3c5b4"
      },
      "source": [
        "data.isnull().sum()"
      ],
      "execution_count": null,
      "outputs": [
        {
          "output_type": "execute_result",
          "data": {
            "text/plain": [
              "Id                         0\n",
              "ProductId                  0\n",
              "UserId                     0\n",
              "ProfileName               16\n",
              "HelpfulnessNumerator       0\n",
              "HelpfulnessDenominator     0\n",
              "Score                      0\n",
              "Time                       0\n",
              "Summary                   27\n",
              "Text                       0\n",
              "dtype: int64"
            ]
          },
          "metadata": {},
          "execution_count": 70
        }
      ]
    },
    {
      "cell_type": "markdown",
      "metadata": {
        "id": "NKttOZQzEy_z"
      },
      "source": [
        "Dropping Null data"
      ]
    },
    {
      "cell_type": "code",
      "metadata": {
        "colab": {
          "base_uri": "https://localhost:8080/"
        },
        "id": "TTUM4E2zEy_z",
        "outputId": "0e2c227e-c093-4e57-8a27-75074ade4443"
      },
      "source": [
        "data=data.dropna()\n",
        "data.isnull().sum()"
      ],
      "execution_count": null,
      "outputs": [
        {
          "output_type": "execute_result",
          "data": {
            "text/plain": [
              "Id                        0\n",
              "ProductId                 0\n",
              "UserId                    0\n",
              "ProfileName               0\n",
              "HelpfulnessNumerator      0\n",
              "HelpfulnessDenominator    0\n",
              "Score                     0\n",
              "Time                      0\n",
              "Summary                   0\n",
              "Text                      0\n",
              "dtype: int64"
            ]
          },
          "metadata": {},
          "execution_count": 71
        }
      ]
    },
    {
      "cell_type": "markdown",
      "metadata": {
        "id": "_pLGSUYsEy_0"
      },
      "source": [
        "*** Data Cleaning ***\n"
      ]
    },
    {
      "cell_type": "markdown",
      "metadata": {
        "id": "kQ6Zbm2JEy_1"
      },
      "source": [
        "Replacing Score greater than 3 with 2, score equal to 3 with 1 and score lesser tahn 3 with 0.\n",
        "signifies 0 as NEGATIVE REVIEW  1 as NEUTRAL REVIEW  2 as POSTIVE REVIEW"
      ]
    },
    {
      "cell_type": "code",
      "metadata": {
        "colab": {
          "base_uri": "https://localhost:8080/"
        },
        "id": "ryxJOLcIEy_2",
        "outputId": "0cbfb0eb-6ae3-4c72-ca20-84e9100abb2e"
      },
      "source": [
        "\n",
        "reviews=[]\n",
        "for i in data['Score']:\n",
        "    if i <3:                              \n",
        "        reviews.append(0)\n",
        "    if i==3:\n",
        "        reviews.append(1)\n",
        "    if i>3:\n",
        "        reviews.append(2)\n",
        "len(reviews),len(data)"
      ],
      "execution_count": null,
      "outputs": [
        {
          "output_type": "execute_result",
          "data": {
            "text/plain": [
              "(568411, 568411)"
            ]
          },
          "metadata": {},
          "execution_count": 72
        }
      ]
    },
    {
      "cell_type": "code",
      "metadata": {
        "colab": {
          "base_uri": "https://localhost:8080/",
          "height": 204
        },
        "id": "hZnfq-IFEy_4",
        "outputId": "7404fd97-bf49-4b9f-995d-c8fb757f4b2f"
      },
      "source": [
        "data['sentiment']=reviews\n",
        "final_dataset=data[['Text','sentiment']]\n",
        "final_dataset.head()               "
      ],
      "execution_count": null,
      "outputs": [
        {
          "output_type": "execute_result",
          "data": {
            "text/html": [
              "<div>\n",
              "<style scoped>\n",
              "    .dataframe tbody tr th:only-of-type {\n",
              "        vertical-align: middle;\n",
              "    }\n",
              "\n",
              "    .dataframe tbody tr th {\n",
              "        vertical-align: top;\n",
              "    }\n",
              "\n",
              "    .dataframe thead th {\n",
              "        text-align: right;\n",
              "    }\n",
              "</style>\n",
              "<table border=\"1\" class=\"dataframe\">\n",
              "  <thead>\n",
              "    <tr style=\"text-align: right;\">\n",
              "      <th></th>\n",
              "      <th>Text</th>\n",
              "      <th>sentiment</th>\n",
              "    </tr>\n",
              "  </thead>\n",
              "  <tbody>\n",
              "    <tr>\n",
              "      <th>0</th>\n",
              "      <td>I have bought several of the Vitality canned d...</td>\n",
              "      <td>2</td>\n",
              "    </tr>\n",
              "    <tr>\n",
              "      <th>1</th>\n",
              "      <td>Product arrived labeled as Jumbo Salted Peanut...</td>\n",
              "      <td>0</td>\n",
              "    </tr>\n",
              "    <tr>\n",
              "      <th>2</th>\n",
              "      <td>This is a confection that has been around a fe...</td>\n",
              "      <td>2</td>\n",
              "    </tr>\n",
              "    <tr>\n",
              "      <th>3</th>\n",
              "      <td>If you are looking for the secret ingredient i...</td>\n",
              "      <td>0</td>\n",
              "    </tr>\n",
              "    <tr>\n",
              "      <th>4</th>\n",
              "      <td>Great taffy at a great price.  There was a wid...</td>\n",
              "      <td>2</td>\n",
              "    </tr>\n",
              "  </tbody>\n",
              "</table>\n",
              "</div>"
            ],
            "text/plain": [
              "                                                Text  sentiment\n",
              "0  I have bought several of the Vitality canned d...          2\n",
              "1  Product arrived labeled as Jumbo Salted Peanut...          0\n",
              "2  This is a confection that has been around a fe...          2\n",
              "3  If you are looking for the secret ingredient i...          0\n",
              "4  Great taffy at a great price.  There was a wid...          2"
            ]
          },
          "metadata": {},
          "execution_count": 73
        }
      ]
    },
    {
      "cell_type": "markdown",
      "metadata": {
        "id": "pXvKV11MEy_5"
      },
      "source": [
        "Keeping Positive and Negative data"
      ]
    },
    {
      "cell_type": "code",
      "metadata": {
        "id": "N7XsJcdXEy_5"
      },
      "source": [
        "positive_data=final_dataset[data['sentiment']==2]\n",
        "negative_data=final_dataset[data['sentiment']==0]"
      ],
      "execution_count": null,
      "outputs": []
    },
    {
      "cell_type": "code",
      "metadata": {
        "colab": {
          "base_uri": "https://localhost:8080/"
        },
        "id": "xG9PoxjEEy_5",
        "outputId": "5bbc7e6b-be6d-4c35-9f7d-9c1ca62e9f64"
      },
      "source": [
        "import numpy as np\n",
        "data_p=positive_data.iloc[np.random.randint(1,443766,5000),:]\n",
        "data_n=negative_data.iloc[np.random.randint(1,82007,5000),:]\n",
        "len(data_n),len(data_p)"
      ],
      "execution_count": null,
      "outputs": [
        {
          "output_type": "execute_result",
          "data": {
            "text/plain": [
              "(5000, 5000)"
            ]
          },
          "metadata": {},
          "execution_count": 75
        }
      ]
    },
    {
      "cell_type": "code",
      "metadata": {
        "colab": {
          "base_uri": "https://localhost:8080/"
        },
        "id": "JI95QrHcEy_6",
        "outputId": "2fad4b77-fc61-4d5b-b327-6518cce2d3ac"
      },
      "source": [
        "data=pd.concat([data_p,data_n])\n",
        "len(data)"
      ],
      "execution_count": null,
      "outputs": [
        {
          "output_type": "execute_result",
          "data": {
            "text/plain": [
              "10000"
            ]
          },
          "metadata": {},
          "execution_count": 76
        }
      ]
    },
    {
      "cell_type": "markdown",
      "metadata": {
        "id": "54WivGnpEy_6"
      },
      "source": [
        "Converting sentiments to 0 and 1"
      ]
    },
    {
      "cell_type": "code",
      "metadata": {
        "id": "vIUq5U40Ey_7"
      },
      "source": [
        "c=[]\n",
        "for i in data['sentiment']:\n",
        "    if i<2:\n",
        "        c.append(0)\n",
        "    if i==2:\n",
        "        c.append(1)\n",
        "data['sentiment']=c "
      ],
      "execution_count": null,
      "outputs": []
    },
    {
      "cell_type": "markdown",
      "metadata": {
        "id": "Xx4kV3n1Ey_7"
      },
      "source": [
        "Handling HTML tags"
      ]
    },
    {
      "cell_type": "code",
      "metadata": {
        "colab": {
          "base_uri": "https://localhost:8080/",
          "height": 111
        },
        "id": "s2iSr60NEy_7",
        "outputId": "20ebbe49-c805-47f7-b0ad-ec681d5ec9b3"
      },
      "source": [
        "from bs4 import BeautifulSoup\n",
        "def strip_html(text):\n",
        "    soup = BeautifulSoup(text, \"html.parser\")\n",
        "    return soup.get_text()\n",
        "data['review']=data['Text'].apply(strip_html)\n",
        "data.head(2)"
      ],
      "execution_count": null,
      "outputs": [
        {
          "output_type": "execute_result",
          "data": {
            "text/html": [
              "<div>\n",
              "<style scoped>\n",
              "    .dataframe tbody tr th:only-of-type {\n",
              "        vertical-align: middle;\n",
              "    }\n",
              "\n",
              "    .dataframe tbody tr th {\n",
              "        vertical-align: top;\n",
              "    }\n",
              "\n",
              "    .dataframe thead th {\n",
              "        text-align: right;\n",
              "    }\n",
              "</style>\n",
              "<table border=\"1\" class=\"dataframe\">\n",
              "  <thead>\n",
              "    <tr style=\"text-align: right;\">\n",
              "      <th></th>\n",
              "      <th>Text</th>\n",
              "      <th>sentiment</th>\n",
              "      <th>review</th>\n",
              "    </tr>\n",
              "  </thead>\n",
              "  <tbody>\n",
              "    <tr>\n",
              "      <th>437503</th>\n",
              "      <td>Got these for my sister who has Celiac disease...</td>\n",
              "      <td>1</td>\n",
              "      <td>Got these for my sister who has Celiac disease...</td>\n",
              "    </tr>\n",
              "    <tr>\n",
              "      <th>241216</th>\n",
              "      <td>Just tried this today(was a \"freebie\" while wa...</td>\n",
              "      <td>1</td>\n",
              "      <td>Just tried this today(was a \"freebie\" while wa...</td>\n",
              "    </tr>\n",
              "  </tbody>\n",
              "</table>\n",
              "</div>"
            ],
            "text/plain": [
              "                                                     Text  ...                                             review\n",
              "437503  Got these for my sister who has Celiac disease...  ...  Got these for my sister who has Celiac disease...\n",
              "241216  Just tried this today(was a \"freebie\" while wa...  ...  Just tried this today(was a \"freebie\" while wa...\n",
              "\n",
              "[2 rows x 3 columns]"
            ]
          },
          "metadata": {},
          "execution_count": 78
        }
      ]
    },
    {
      "cell_type": "markdown",
      "metadata": {
        "id": "W2NRPU_ZEy_7"
      },
      "source": [
        "Handling Punctuation "
      ]
    },
    {
      "cell_type": "code",
      "metadata": {
        "colab": {
          "base_uri": "https://localhost:8080/",
          "height": 111
        },
        "id": "5s_sGg-DEy_8",
        "outputId": "d2ed8bb4-c1a0-4cd8-e9ca-8eeb21cd40f6"
      },
      "source": [
        "data=data.drop('Text',axis=1)\n",
        "import nltk \n",
        "def punc_clean(text):\n",
        "    import string as st\n",
        "    a=[w for w in text if w not in st.punctuation]\n",
        "    return ''.join(a)\n",
        "data['review']=data['review'].apply(punc_clean)\n",
        "data.head(2)"
      ],
      "execution_count": null,
      "outputs": [
        {
          "output_type": "execute_result",
          "data": {
            "text/html": [
              "<div>\n",
              "<style scoped>\n",
              "    .dataframe tbody tr th:only-of-type {\n",
              "        vertical-align: middle;\n",
              "    }\n",
              "\n",
              "    .dataframe tbody tr th {\n",
              "        vertical-align: top;\n",
              "    }\n",
              "\n",
              "    .dataframe thead th {\n",
              "        text-align: right;\n",
              "    }\n",
              "</style>\n",
              "<table border=\"1\" class=\"dataframe\">\n",
              "  <thead>\n",
              "    <tr style=\"text-align: right;\">\n",
              "      <th></th>\n",
              "      <th>sentiment</th>\n",
              "      <th>review</th>\n",
              "    </tr>\n",
              "  </thead>\n",
              "  <tbody>\n",
              "    <tr>\n",
              "      <th>437503</th>\n",
              "      <td>1</td>\n",
              "      <td>Got these for my sister who has Celiac disease...</td>\n",
              "    </tr>\n",
              "    <tr>\n",
              "      <th>241216</th>\n",
              "      <td>1</td>\n",
              "      <td>Just tried this todaywas a freebie while waiti...</td>\n",
              "    </tr>\n",
              "  </tbody>\n",
              "</table>\n",
              "</div>"
            ],
            "text/plain": [
              "        sentiment                                             review\n",
              "437503          1  Got these for my sister who has Celiac disease...\n",
              "241216          1  Just tried this todaywas a freebie while waiti..."
            ]
          },
          "metadata": {},
          "execution_count": 79
        }
      ]
    },
    {
      "cell_type": "markdown",
      "metadata": {
        "id": "GeCNuNxWEy_8"
      },
      "source": [
        "Removing Stopwords"
      ]
    },
    {
      "cell_type": "code",
      "metadata": {
        "id": "EYxDUvUFEy_8"
      },
      "source": [
        "def remove_stopword(text):\n",
        "    stopword=nltk.corpus.stopwords.words('english')\n",
        "    stopword.remove('not')\n",
        "    a=[w for w in nltk.word_tokenize(text) if w not in stopword]\n",
        "    return ' '.join(a)\n",
        "data['review']=data['review'].apply(remove_stopword)"
      ],
      "execution_count": null,
      "outputs": []
    },
    {
      "cell_type": "markdown",
      "metadata": {
        "id": "46Tpk4RUEy_9"
      },
      "source": [
        "*** Splitting Data into train and test ***"
      ]
    },
    {
      "cell_type": "code",
      "metadata": {
        "id": "QV5gxL5tEy_9"
      },
      "source": [
        "from sklearn.model_selection import train_test_split\n",
        "X_train, X_test, y_train, y_test = train_test_split(data['review'],data['sentiment'],  test_size=0.30, random_state=0)"
      ],
      "execution_count": null,
      "outputs": []
    },
    {
      "cell_type": "markdown",
      "metadata": {
        "id": "ltz3NpCeEy_9"
      },
      "source": [
        "*** Vectorizing data ***"
      ]
    },
    {
      "cell_type": "code",
      "metadata": {
        "id": "79tWVE3MEy_9"
      },
      "source": [
        "from sklearn.feature_extraction.text import CountVectorizer,TfidfVectorizer\n",
        "vectr=TfidfVectorizer(ngram_range=(1,2),min_df=5)\n",
        "train_vector = vectr.fit_transform(X_train)\n",
        "test_vector = vectr.transform(X_test)"
      ],
      "execution_count": null,
      "outputs": []
    },
    {
      "cell_type": "code",
      "metadata": {
        "id": "C5CmxcqCEy_-"
      },
      "source": [
        "vectr_c=CountVectorizer(ngram_range=(1,2),min_df=5)\n",
        "train_vector_c = vectr_c.fit_transform(X_train)\n",
        "test_vecto_c = vectr_c.transform(X_test)"
      ],
      "execution_count": null,
      "outputs": []
    },
    {
      "cell_type": "markdown",
      "metadata": {
        "id": "Buw3GX7vEzAA"
      },
      "source": [
        "*** Parameter Selection ***"
      ]
    },
    {
      "cell_type": "code",
      "metadata": {
        "colab": {
          "base_uri": "https://localhost:8080/"
        },
        "id": "oMS1YFqdEzAA",
        "outputId": "9211e7d7-9990-49b7-c6aa-561acf0a91da"
      },
      "source": [
        "distance = []\n",
        "for i in range(-2, 3):\n",
        "    mul = 10 ** (-i + 1)\n",
        "    center = 10 ** i\n",
        "    for j in range(-5,6):\n",
        "        distance.append(j/mul + center)\n",
        "print(distance)\n",
        "iteration = []\n",
        "for i in range (75, 130, 5):\n",
        "    iteration.append(i)\n",
        "print(iteration)\n",
        "parameter = {'C' : distance, 'max_iter' : iteration}\n",
        "print(parameter)"
      ],
      "execution_count": null,
      "outputs": [
        {
          "output_type": "stream",
          "name": "stdout",
          "text": [
            "[0.005, 0.006, 0.007, 0.008, 0.009000000000000001, 0.01, 0.011, 0.012, 0.013000000000000001, 0.014, 0.015, 0.05, 0.060000000000000005, 0.07, 0.08, 0.09000000000000001, 0.1, 0.11, 0.12000000000000001, 0.13, 0.14, 0.15000000000000002, 0.5, 0.6, 0.7, 0.8, 0.9, 1.0, 1.1, 1.2, 1.3, 1.4, 1.5, 5.0, 6.0, 7.0, 8.0, 9.0, 10.0, 11.0, 12.0, 13.0, 14.0, 15.0, 50.0, 60.0, 70.0, 80.0, 90.0, 100.0, 110.0, 120.0, 130.0, 140.0, 150.0]\n",
            "[75, 80, 85, 90, 95, 100, 105, 110, 115, 120, 125]\n",
            "{'C': [0.005, 0.006, 0.007, 0.008, 0.009000000000000001, 0.01, 0.011, 0.012, 0.013000000000000001, 0.014, 0.015, 0.05, 0.060000000000000005, 0.07, 0.08, 0.09000000000000001, 0.1, 0.11, 0.12000000000000001, 0.13, 0.14, 0.15000000000000002, 0.5, 0.6, 0.7, 0.8, 0.9, 1.0, 1.1, 1.2, 1.3, 1.4, 1.5, 5.0, 6.0, 7.0, 8.0, 9.0, 10.0, 11.0, 12.0, 13.0, 14.0, 15.0, 50.0, 60.0, 70.0, 80.0, 90.0, 100.0, 110.0, 120.0, 130.0, 140.0, 150.0], 'max_iter': [75, 80, 85, 90, 95, 100, 105, 110, 115, 120, 125]}\n"
          ]
        }
      ]
    },
    {
      "cell_type": "markdown",
      "metadata": {
        "id": "YGJGu-0EEzAA"
      },
      "source": [
        "# Model Building using Logistic Regression + Randomized Search CV  with CountVectorizer features"
      ]
    },
    {
      "cell_type": "code",
      "metadata": {
        "colab": {
          "base_uri": "https://localhost:8080/"
        },
        "id": "S3FBFpMjEzAB",
        "outputId": "e4b12a02-7390-4933-a9cd-58e88327e369"
      },
      "source": [
        "from sklearn.model_selection import RandomizedSearchCV\n",
        "from sklearn.linear_model import LogisticRegression\n",
        "random_model = RandomizedSearchCV(LogisticRegression(class_weight='balanced', penalty='l2'), parameter, cv = 10, scoring = 'accuracy', n_jobs=-1)\n",
        "random_model.fit(train_vector_c, y_train)"
      ],
      "execution_count": null,
      "outputs": [
        {
          "output_type": "execute_result",
          "data": {
            "text/plain": [
              "RandomizedSearchCV(cv=10, error_score=nan,\n",
              "                   estimator=LogisticRegression(C=1.0, class_weight='balanced',\n",
              "                                                dual=False, fit_intercept=True,\n",
              "                                                intercept_scaling=1,\n",
              "                                                l1_ratio=None, max_iter=100,\n",
              "                                                multi_class='auto', n_jobs=None,\n",
              "                                                penalty='l2', random_state=None,\n",
              "                                                solver='lbfgs', tol=0.0001,\n",
              "                                                verbose=0, warm_start=False),\n",
              "                   iid='deprecated', n_iter=10, n_jobs=-1,\n",
              "                   param_distributions=...\n",
              "                                              0.012, 0.013000000000000001,\n",
              "                                              0.014, 0.015, 0.05,\n",
              "                                              0.060000000000000005, 0.07, 0.08,\n",
              "                                              0.09000000000000001, 0.1, 0.11,\n",
              "                                              0.12000000000000001, 0.13, 0.14,\n",
              "                                              0.15000000000000002, 0.5, 0.6,\n",
              "                                              0.7, 0.8, 0.9, 1.0, 1.1, 1.2, ...],\n",
              "                                        'max_iter': [75, 80, 85, 90, 95, 100,\n",
              "                                                     105, 110, 115, 120, 125]},\n",
              "                   pre_dispatch='2*n_jobs', random_state=None, refit=True,\n",
              "                   return_train_score=False, scoring='accuracy', verbose=0)"
            ]
          },
          "metadata": {},
          "execution_count": 85
        }
      ]
    },
    {
      "cell_type": "markdown",
      "metadata": {
        "id": "eKdW-s9_EzAB"
      },
      "source": [
        "*** Accuracy ***"
      ]
    },
    {
      "cell_type": "code",
      "metadata": {
        "id": "iC-DHtIDEzAB"
      },
      "source": [
        "#print(random_model.best_estimator_)\n",
        "pred = random_model.predict(test_vecto_c)\n",
        "from sklearn.metrics import accuracy_score\n",
        "acc_log = accuracy_score(y_test, pred)"
      ],
      "execution_count": null,
      "outputs": []
    },
    {
      "cell_type": "code",
      "metadata": {
        "colab": {
          "base_uri": "https://localhost:8080/"
        },
        "id": "uuVnJsAvEzAC",
        "outputId": "37124763-5c3d-40d6-85ad-d1daca965d7e"
      },
      "source": [
        "random_model.predict(vectr.transform(['i like this food']))"
      ],
      "execution_count": null,
      "outputs": [
        {
          "output_type": "execute_result",
          "data": {
            "text/plain": [
              "array([1])"
            ]
          },
          "metadata": {},
          "execution_count": 87
        }
      ]
    },
    {
      "cell_type": "markdown",
      "metadata": {
        "id": "Zui_CpBOEzAD"
      },
      "source": [
        "*** Classification Report ***"
      ]
    },
    {
      "cell_type": "code",
      "metadata": {
        "colab": {
          "base_uri": "https://localhost:8080/"
        },
        "id": "F-itYkrOEzAD",
        "outputId": "ffa6a7c3-d2ed-46c8-f6e6-8f53f6155260"
      },
      "source": [
        "from sklearn.metrics import classification_report\n",
        "print(classification_report(y_test,pred))"
      ],
      "execution_count": null,
      "outputs": [
        {
          "output_type": "stream",
          "name": "stdout",
          "text": [
            "              precision    recall  f1-score   support\n",
            "\n",
            "           0       0.88      0.88      0.88      1489\n",
            "           1       0.88      0.88      0.88      1511\n",
            "\n",
            "    accuracy                           0.88      3000\n",
            "   macro avg       0.88      0.88      0.88      3000\n",
            "weighted avg       0.88      0.88      0.88      3000\n",
            "\n"
          ]
        }
      ]
    },
    {
      "cell_type": "markdown",
      "metadata": {
        "id": "Kzc-Q-eMEzAD"
      },
      "source": [
        "*** Confusion Matrix ***"
      ]
    },
    {
      "cell_type": "code",
      "metadata": {
        "colab": {
          "base_uri": "https://localhost:8080/",
          "height": 342
        },
        "id": "HQs_WmhnEzAD",
        "outputId": "5b5b302c-fb30-4bf3-e65a-0824c6fd9e94"
      },
      "source": [
        "from sklearn.metrics import confusion_matrix\n",
        "import matplotlib.pyplot as plt\n",
        "import seaborn as sns\n",
        "confusion = confusion_matrix(y_test , pred)\n",
        "print(confusion)\n",
        "df_cm = pd.DataFrame(confusion , index = ['Negative','Positive'])\n",
        "sns.heatmap(df_cm ,annot = True)\n",
        "plt.xticks([0.5,1.5],['Negative','Positive'],rotation = 45)\n",
        "plt.xlabel(\"Predicted\")\n",
        "plt.ylabel(\"Actual\")\n",
        "plt.show()"
      ],
      "execution_count": null,
      "outputs": [
        {
          "output_type": "stream",
          "name": "stdout",
          "text": [
            "[[1303  186]\n",
            " [ 179 1332]]\n"
          ]
        },
        {
          "output_type": "display_data",
          "data": {
            "image/png": "[encoded data removed]",
            "text/plain": [
              "<Figure size 432x288 with 2 Axes>"
            ]
          },
          "metadata": {
            "needs_background": "light"
          }
        }
      ]
    },
    {
      "cell_type": "markdown",
      "metadata": {
        "id": "jRJnUgfYEzAE"
      },
      "source": [
        "# Model Building Using Random Forest Classifier with tfid features"
      ]
    },
    {
      "cell_type": "code",
      "metadata": {
        "colab": {
          "base_uri": "https://localhost:8080/"
        },
        "id": "pMFnhuArEzAE",
        "outputId": "20ef7048-239a-4d12-f9f3-1189a2ad5ec2"
      },
      "source": [
        "from sklearn.ensemble import RandomForestClassifier\n",
        "from sklearn.metrics import accuracy_score\n",
        "\n",
        "## initialize your Model\n",
        "clf = RandomForestClassifier(random_state=0) \n",
        "clf.fit(train_vector, y_train)"
      ],
      "execution_count": null,
      "outputs": [
        {
          "output_type": "execute_result",
          "data": {
            "text/plain": [
              "RandomForestClassifier(bootstrap=True, ccp_alpha=0.0, class_weight=None,\n",
              "                       criterion='gini', max_depth=None, max_features='auto',\n",
              "                       max_leaf_nodes=None, max_samples=None,\n",
              "                       min_impurity_decrease=0.0, min_impurity_split=None,\n",
              "                       min_samples_leaf=1, min_samples_split=2,\n",
              "                       min_weight_fraction_leaf=0.0, n_estimators=100,\n",
              "                       n_jobs=None, oob_score=False, random_state=0, verbose=0,\n",
              "                       warm_start=False)"
            ]
          },
          "metadata": {},
          "execution_count": 90
        }
      ]
    },
    {
      "cell_type": "code",
      "metadata": {
        "id": "57GYVJFLEzAF"
      },
      "source": [
        "# Predict on Test data\n",
        "preds = clf.predict(test_vector)\n",
        "# Calculate Model Accuracy\n",
        "acc_randf = accuracy_score(preds, y_test)\n",
        "\n"
      ],
      "execution_count": null,
      "outputs": []
    },
    {
      "cell_type": "code",
      "metadata": {
        "colab": {
          "base_uri": "https://localhost:8080/"
        },
        "id": "ILZ6f8-UEzAF",
        "outputId": "36ebec9e-7b93-44d9-a673-7e01c97469aa"
      },
      "source": [
        "from sklearn.metrics import classification_report\n",
        "print(classification_report(y_test,preds))"
      ],
      "execution_count": null,
      "outputs": [
        {
          "output_type": "stream",
          "name": "stdout",
          "text": [
            "              precision    recall  f1-score   support\n",
            "\n",
            "           0       0.85      0.88      0.86      1489\n",
            "           1       0.88      0.85      0.86      1511\n",
            "\n",
            "    accuracy                           0.86      3000\n",
            "   macro avg       0.86      0.86      0.86      3000\n",
            "weighted avg       0.86      0.86      0.86      3000\n",
            "\n"
          ]
        }
      ]
    },
    {
      "cell_type": "code",
      "metadata": {
        "colab": {
          "base_uri": "https://localhost:8080/",
          "height": 342
        },
        "id": "h32i9mVNEzAG",
        "outputId": "fe8aff23-5164-43f5-d7cc-a527756687aa"
      },
      "source": [
        "from sklearn.metrics import confusion_matrix\n",
        "import matplotlib.pyplot as plt\n",
        "import seaborn as sns\n",
        "confusion = confusion_matrix(y_test , preds)\n",
        "print(confusion)\n",
        "df_cm = pd.DataFrame(confusion , index = ['Negative','Positive'])\n",
        "sns.heatmap(df_cm ,annot = True)\n",
        "plt.xticks([0.5,1.5],['Negative','Positive'],rotation = 45)\n",
        "plt.xlabel(\"Predicted\")\n",
        "plt.ylabel(\"Actual\")\n",
        "plt.show()"
      ],
      "execution_count": null,
      "outputs": [
        {
          "output_type": "stream",
          "name": "stdout",
          "text": [
            "[[1307  182]\n",
            " [ 229 1282]]\n"
          ]
        },
        {
          "output_type": "display_data",
          "data": {
            "image/png": "[encoded data removed]",
            "text/plain": [
              "<Figure size 432x288 with 2 Axes>"
            ]
          },
          "metadata": {
            "needs_background": "light"
          }
        }
      ]
    },
    {
      "cell_type": "markdown",
      "metadata": {
        "id": "2WCV112REzAG"
      },
      "source": [
        "# Model Using Embeddings"
      ]
    },
    {
      "cell_type": "code",
      "metadata": {
        "id": "gevjABinEzAH"
      },
      "source": [
        "\n",
        "from keras.preprocessing.text import Tokenizer\n",
        "from keras.preprocessing.sequence import pad_sequences\n",
        "from keras.layers import Dense , Input , LSTM , Embedding, Dropout , Activation, GRU, Flatten\n",
        "from keras.layers import Bidirectional, GlobalMaxPool1D\n",
        "from keras.models import Model, Sequential\n",
        "from keras.layers import Convolution1D\n",
        "from keras import initializers, regularizers, constraints, optimizers, layers"
      ],
      "execution_count": null,
      "outputs": []
    },
    {
      "cell_type": "code",
      "metadata": {
        "id": "x4jsEs74EzAI"
      },
      "source": [
        "top_words = 6000\n",
        "tokenizer = Tokenizer(num_words=top_words)\n",
        "tokenizer.fit_on_texts(data['review'])\n",
        "list_tokenized_train = tokenizer.texts_to_sequences(data['review'])\n",
        "\n",
        "max_review_length = 130\n",
        "X_train = pad_sequences(list_tokenized_train, maxlen=max_review_length)\n",
        "y_train = data['sentiment']\n"
      ],
      "execution_count": null,
      "outputs": []
    },
    {
      "cell_type": "code",
      "metadata": {
        "colab": {
          "base_uri": "https://localhost:8080/"
        },
        "id": "k_UTWW_3EzAJ",
        "outputId": "9f11c3b4-abb5-493f-a07d-6af5f5a7a682"
      },
      "source": [
        "embedding_vecor_length = 32\n",
        "model = Sequential()\n",
        "model.add(Embedding(top_words+1, embedding_vecor_length, input_length=max_review_length))\n",
        "model.add(Dropout(0.75))\n",
        "model.add(Flatten())\n",
        "model.add(Dense(1, activation='sigmoid'))\n",
        "model.compile(loss='binary_crossentropy', optimizer='adam', metrics=['accuracy'])\n",
        "model.summary()"
      ],
      "execution_count": null,
      "outputs": [
        {
          "output_type": "stream",
          "name": "stdout",
          "text": [
            "Model: \"sequential_2\"\n",
            "_________________________________________________________________\n",
            "Layer (type)                 Output Shape              Param #   \n",
            "=================================================================\n",
            "embedding_2 (Embedding)      (None, 130, 32)           192032    \n",
            "_________________________________________________________________\n",
            "dropout_1 (Dropout)          (None, 130, 32)           0         \n",
            "_________________________________________________________________\n",
            "flatten_1 (Flatten)          (None, 4160)              0         \n",
            "_________________________________________________________________\n",
            "dense_2 (Dense)              (None, 1)                 4161      \n",
            "=================================================================\n",
            "Total params: 196,193\n",
            "Trainable params: 196,193\n",
            "Non-trainable params: 0\n",
            "_________________________________________________________________\n"
          ]
        }
      ]
    },
    {
      "cell_type": "code",
      "metadata": {
        "colab": {
          "base_uri": "https://localhost:8080/"
        },
        "id": "BZPgJpSUEzAJ",
        "outputId": "03893a20-b3cf-43c5-ab1c-0accf23a2092"
      },
      "source": [
        "model.fit(X_train,y_train, epochs=3, batch_size=64, validation_split=0.2)"
      ],
      "execution_count": null,
      "outputs": [
        {
          "output_type": "stream",
          "name": "stdout",
          "text": [
            "Epoch 1/3\n",
            "125/125 [==============================] - 2s 11ms/step - loss: 0.6585 - accuracy: 0.6196 - val_loss: 0.9101 - val_accuracy: 0.0300\n",
            "Epoch 2/3\n",
            "125/125 [==============================] - 1s 9ms/step - loss: 0.6134 - accuracy: 0.6679 - val_loss: 0.8460 - val_accuracy: 0.2430\n",
            "Epoch 3/3\n",
            "125/125 [==============================] - 1s 9ms/step - loss: 0.4709 - accuracy: 0.8055 - val_loss: 0.6419 - val_accuracy: 0.6105\n"
          ]
        },
        {
          "output_type": "execute_result",
          "data": {
            "text/plain": [
              "<keras.callbacks.History at 0x7f845c715a50>"
            ]
          },
          "metadata": {},
          "execution_count": 97
        }
      ]
    },
    {
      "cell_type": "code",
      "metadata": {
        "id": "CkIRgD3cEzAJ"
      },
      "source": [
        "from sklearn.metrics import accuracy_score,f1_score, confusion_matrix\n",
        "list_tokenized_test = tokenizer.texts_to_sequences(data['review'])\n",
        "X_test = pad_sequences(list_tokenized_test, maxlen=max_review_length)\n",
        "y_test = data['sentiment']\n",
        "prediction = model.predict(X_test)\n",
        "y_pred = (prediction > 0.5)\n",
        "acc_emb = accuracy_score(y_pred, y_test)\n",
        "#print('F1-score: ', f1_score(y_pred, y_test))"
      ],
      "execution_count": null,
      "outputs": []
    },
    {
      "cell_type": "code",
      "metadata": {
        "colab": {
          "base_uri": "https://localhost:8080/",
          "height": 295
        },
        "id": "4p6JIM95EzAK",
        "outputId": "d5f598b1-fa67-49ac-a425-fb31a5615e21"
      },
      "source": [
        "import sklearn.metrics as metrics\n",
        "fpr, tpr, threshold = metrics.roc_curve(y_test, y_pred)\n",
        "roc_auc = metrics.auc(fpr, tpr)\n",
        "\n",
        "# method I: plt\n",
        "import matplotlib.pyplot as plt\n",
        "plt.title('ROC- AUC Curve')\n",
        "plt.plot(fpr, tpr, 'b', label = 'AUC = %0.2f' % roc_auc)\n",
        "plt.legend(loc = 'lower right')\n",
        "plt.plot([0, 1], [0, 1],'r--')\n",
        "plt.xlim([0, 1])\n",
        "plt.ylim([0, 1])\n",
        "plt.ylabel('True Positive Rate')\n",
        "plt.xlabel('False Positive Rate')\n",
        "plt.show()"
      ],
      "execution_count": null,
      "outputs": [
        {
          "output_type": "display_data",
          "data": {
            "image/png": "[encoded data removed]",
            "text/plain": [
              "<Figure size 432x288 with 1 Axes>"
            ]
          },
          "metadata": {
            "needs_background": "light"
          }
        }
      ]
    },
    {
      "cell_type": "markdown",
      "metadata": {
        "id": "PhJKikYnEzAK"
      },
      "source": [
        "# Model Using Embedding + LSTM"
      ]
    },
    {
      "cell_type": "code",
      "metadata": {
        "colab": {
          "base_uri": "https://localhost:8080/"
        },
        "id": "o5b5xBC8EzAK",
        "outputId": "5d54b22d-93b2-4fba-9983-3c0fbbab3f43"
      },
      "source": [
        "embedding_vecor_length = 32\n",
        "model_1 = Sequential()\n",
        "model_1.add(Embedding(top_words+1, embedding_vecor_length, input_length=max_review_length))\n",
        "model_1.add(LSTM(100))\n",
        "model_1.add(Dense(1, activation='sigmoid'))\n",
        "model_1.compile(loss='binary_crossentropy', optimizer='adam', metrics=['accuracy'])\n",
        "model_1.summary()"
      ],
      "execution_count": null,
      "outputs": [
        {
          "output_type": "stream",
          "name": "stdout",
          "text": [
            "Model: \"sequential_3\"\n",
            "_________________________________________________________________\n",
            "Layer (type)                 Output Shape              Param #   \n",
            "=================================================================\n",
            "embedding_3 (Embedding)      (None, 130, 32)           192032    \n",
            "_________________________________________________________________\n",
            "lstm_1 (LSTM)                (None, 100)               53200     \n",
            "_________________________________________________________________\n",
            "dense_3 (Dense)              (None, 1)                 101       \n",
            "=================================================================\n",
            "Total params: 245,333\n",
            "Trainable params: 245,333\n",
            "Non-trainable params: 0\n",
            "_________________________________________________________________\n"
          ]
        }
      ]
    },
    {
      "cell_type": "code",
      "metadata": {
        "colab": {
          "base_uri": "https://localhost:8080/"
        },
        "id": "b8AzAbwUEzAL",
        "outputId": "5e5f1785-c333-4e71-853e-9f71e7f6deb9"
      },
      "source": [
        "model_1.fit(X_train,y_train, epochs=3, batch_size=64, validation_split=0.2)"
      ],
      "execution_count": null,
      "outputs": [
        {
          "output_type": "stream",
          "name": "stdout",
          "text": [
            "Epoch 1/3\n",
            "125/125 [==============================] - 22s 158ms/step - loss: 0.5124 - accuracy: 0.7331 - val_loss: 0.5917 - val_accuracy: 0.7610\n",
            "Epoch 2/3\n",
            "125/125 [==============================] - 18s 148ms/step - loss: 0.2583 - accuracy: 0.8994 - val_loss: 0.3486 - val_accuracy: 0.8535\n",
            "Epoch 3/3\n",
            "125/125 [==============================] - 18s 148ms/step - loss: 0.1705 - accuracy: 0.9399 - val_loss: 0.4778 - val_accuracy: 0.8320\n"
          ]
        },
        {
          "output_type": "execute_result",
          "data": {
            "text/plain": [
              "<keras.callbacks.History at 0x7f8407d17150>"
            ]
          },
          "metadata": {},
          "execution_count": 101
        }
      ]
    },
    {
      "cell_type": "code",
      "metadata": {
        "id": "iPWCiJdgEzAL"
      },
      "source": [
        "from sklearn.metrics import accuracy_score,f1_score, confusion_matrix\n",
        "list_tokenized_test = tokenizer.texts_to_sequences(data['review'])\n",
        "X_test = pad_sequences(list_tokenized_test, maxlen=max_review_length)\n",
        "y_test = data['sentiment']\n",
        "prediction = model_1.predict(X_test)\n",
        "y_pred = (prediction > 0.5)\n",
        "acc_emb_lstm = accuracy_score(y_pred, y_test)\n",
        "#print('F1-score: ', f1_score(y_pred, y_test))"
      ],
      "execution_count": null,
      "outputs": []
    },
    {
      "cell_type": "code",
      "metadata": {
        "colab": {
          "base_uri": "https://localhost:8080/",
          "height": 295
        },
        "id": "oB5CcJaPEzAL",
        "outputId": "2fe948bb-4610-4d30-e546-9b50addea900"
      },
      "source": [
        "import sklearn.metrics as metrics\n",
        "fpr, tpr, threshold = metrics.roc_curve(y_test, y_pred)\n",
        "roc_auc = metrics.auc(fpr, tpr)\n",
        "\n",
        "# method I: plt\n",
        "import matplotlib.pyplot as plt\n",
        "plt.title('ROC- AUC Curve')\n",
        "plt.plot(fpr, tpr, 'b', label = 'AUC = %0.2f' % roc_auc)\n",
        "plt.legend(loc = 'lower right')\n",
        "plt.plot([0, 1], [0, 1],'r--')\n",
        "plt.xlim([0, 1])\n",
        "plt.ylim([0, 1])\n",
        "plt.ylabel('True Positive Rate')\n",
        "plt.xlabel('False Positive Rate')\n",
        "plt.show()"
      ],
      "execution_count": null,
      "outputs": [
        {
          "output_type": "display_data",
          "data": {
            "image/png": "[encoded data removed]",
            "text/plain": [
              "<Figure size 432x288 with 1 Axes>"
            ]
          },
          "metadata": {
            "needs_background": "light"
          }
        }
      ]
    },
    {
      "cell_type": "markdown",
      "metadata": {
        "id": "_S-vIn2fHSGW"
      },
      "source": [
        "#Comaprison of Models"
      ]
    },
    {
      "cell_type": "code",
      "metadata": {
        "id": "KqIAvsN7GfFC"
      },
      "source": [
        "#Getting accuracy and log loss for each model\n",
        "model_data = pd.DataFrame({'Models' : ['LogR', 'RandF', 'Embedding', 'LSTM'],\n",
        "                        'Accuracy %' : [acc_log,acc_randf,acc_emb,acc_emb_lstm]})"
      ],
      "execution_count": null,
      "outputs": []
    },
    {
      "cell_type": "code",
      "metadata": {
        "id": "bnr-WTggEzAM"
      },
      "source": [
        "model_data['Accuracy %'] = model_data['Accuracy %'].apply(lambda x : round((x*100),2))"
      ],
      "execution_count": null,
      "outputs": []
    },
    {
      "cell_type": "code",
      "metadata": {
        "colab": {
          "base_uri": "https://localhost:8080/",
          "height": 173
        },
        "id": "QmTScvZoH9-P",
        "outputId": "1ebe46ef-78a2-4c12-e2d9-174be69e9681"
      },
      "source": [
        "model_data"
      ],
      "execution_count": null,
      "outputs": [
        {
          "output_type": "execute_result",
          "data": {
            "text/html": [
              "<div>\n",
              "<style scoped>\n",
              "    .dataframe tbody tr th:only-of-type {\n",
              "        vertical-align: middle;\n",
              "    }\n",
              "\n",
              "    .dataframe tbody tr th {\n",
              "        vertical-align: top;\n",
              "    }\n",
              "\n",
              "    .dataframe thead th {\n",
              "        text-align: right;\n",
              "    }\n",
              "</style>\n",
              "<table border=\"1\" class=\"dataframe\">\n",
              "  <thead>\n",
              "    <tr style=\"text-align: right;\">\n",
              "      <th></th>\n",
              "      <th>Models</th>\n",
              "      <th>Accuracy %</th>\n",
              "    </tr>\n",
              "  </thead>\n",
              "  <tbody>\n",
              "    <tr>\n",
              "      <th>0</th>\n",
              "      <td>LogR</td>\n",
              "      <td>87.83</td>\n",
              "    </tr>\n",
              "    <tr>\n",
              "      <th>1</th>\n",
              "      <td>RandF</td>\n",
              "      <td>86.30</td>\n",
              "    </tr>\n",
              "    <tr>\n",
              "      <th>2</th>\n",
              "      <td>Embedding</td>\n",
              "      <td>81.92</td>\n",
              "    </tr>\n",
              "    <tr>\n",
              "      <th>3</th>\n",
              "      <td>LSTM</td>\n",
              "      <td>94.36</td>\n",
              "    </tr>\n",
              "  </tbody>\n",
              "</table>\n",
              "</div>"
            ],
            "text/plain": [
              "      Models  Accuracy %\n",
              "0       LogR       87.83\n",
              "1      RandF       86.30\n",
              "2  Embedding       81.92\n",
              "3       LSTM       94.36"
            ]
          },
          "metadata": {},
          "execution_count": 108
        }
      ]
    },
    {
      "cell_type": "code",
      "metadata": {
        "colab": {
          "base_uri": "https://localhost:8080/",
          "height": 295
        },
        "id": "CIv8uN6UGj8u",
        "outputId": "4254078a-e03e-4a67-835c-beb5e9cf59ea"
      },
      "source": [
        "#Visualizing the accuracy and log loss of each model\n",
        "sns.barplot(data = model_data, x = model_data['Accuracy %'], y = model_data.Models)\n",
        "plt.title('Model Accuracy')\n",
        "plt.show()\n",
        "\n"
      ],
      "execution_count": null,
      "outputs": [
        {
          "output_type": "display_data",
          "data": {
            "image/png": "[encoded data removed]",
            "text/plain": [
              "<Figure size 432x288 with 1 Axes>"
            ]
          },
          "metadata": {
            "needs_background": "light"
          }
        }
      ]
    },
    {
      "cell_type": "markdown",
      "metadata": {
        "id": "Yx-V3HYpJmAF"
      },
      "source": [
        "Out of the above used models, Model built using LSMT has accuried the best accuracy of around 94%."
      ]
    },
    {
      "cell_type": "code",
      "metadata": {
        "id": "LuEBrB_CG0Kt"
      },
      "source": [
        ""
      ],
      "execution_count": null,
      "outputs": []
    }
  ]
}